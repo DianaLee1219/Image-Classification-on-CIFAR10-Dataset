{
 "cells": [
  {
   "cell_type": "markdown",
   "metadata": {
    "cellIdentifier": "lbx6r4tpm09pvtymha6yhq",
    "deletable": false,
    "editable": false,
    "nbgrader": {
     "grade": false,
     "locked": true,
     "solution": false
    }
   },
   "source": [
    "# <font style=\"color:blue\">Assignment: Implement a CNN for Image Classification on CIFAR10 dataset</font>\n",
    "\n",
    "We have seen how to implement a CNN (LeNet5 and LeNet with the batch norm) in the last section. We used MNIST and Fashion MNIST dataset which are grayscale or single channel datasets. In this assignment, you will implement a CNN Model ( similar to LeNet ) for classifying objects in the `CIFAR10` dataset. \n",
    "\n",
    "The CIFAR10 dataset has the following properties\n",
    "1. It has `10` classes.  \n",
    "1. It has colored images, so it has `3-channels`. \n",
    "1. The image shape is `32 x 32`.\n",
    "\n",
    "Samples of CIFAR10- dataset ([source](https://pytorch.org/tutorials/beginner/blitz/cifar10_tutorial.html?highlight=cifar)):\n",
    "\n",
    "<img src=\"https://www.learnopencv.com/wp-content/uploads/2020/01/c3_w3_cirar10.png\" width=700>\n",
    "\n",
    "\n",
    "# <font color='blue'>Marking Scheme</font>\n",
    "\n",
    "### <font style=\"color:green\">Maximum Points: 30\n",
    "\n",
    "<div>\n",
    "    <table>\n",
    "        <tr><td><h3>Sr. no.</h3></td> <td><h3>Problem</h3></td> <td><h3>Points</h3></td> </tr>\n",
    "        <tr><td><h3>1</h3></td> <td><h3>Implement the CNN Model</h3></td> <td><h3>10</h3></td> </tr>\n",
    "        <tr><td><h3>2</h3></td> <td><h3>Find Mean and Std of Training Data</h3></td> <td><h3>5</h3></td> </tr>\n",
    "        <tr><td><h3>3</h3></td> <td><h3>Model Training & Accuracy</h3></td> <td><h3>15</h3></td> </tr>\n",
    "    </table>\n",
    "</div>\n",
    "\n",
    "\n",
    "# <font color='blue'>Problem Description</font>\n",
    "\n",
    "### <font color='blue'>1. Implement the CNN Model</font>\n",
    "Since the task is to classify objects in a dataset of color images, you need to implement a CNN with 10 output classes. **Also, your model must use `Conv2d`, `BatchNorm2d`, and `ReLU`.** \n",
    "\n",
    "**You need to define the model architecture in the function: `MyModel` ( Step 1 )**\n",
    "\n",
    "Hint: For color images you need to use an input shape that is different than the ones we have been using till now, so that it accepts 3 channel inputs.\n",
    "\n",
    "### <font color='blue'>2. Find Mean and Std of Training Data</font>\n",
    "\n",
    "It is a good practice to normalize the training data. To normalize the data, we need to compute mean and std. As the dataset has colored images, it has `3-channel` (RGB or BGR). We have to find mean and std per channel using training data. \n",
    "\n",
    "**You need to compute the mean and std for the dataset in the function: `get_mean_std_train_data` ( Step 3 )**\n",
    "\n",
    "### <font color='blue'>3. Model Training and Accuracy</font>\n",
    "\n",
    "Once you have defined the model, you can train it. To get better accuracy, you need to play around the training configuration **( Step 5 )** and even the model architecture. You can check the accuracy by running the training loop in `Step 11`.\n",
    "\n",
    "Here are a few hints on how you can improve the accuracy:\n",
    "- Train for longer duration\n",
    "- Try with different learning rate\n",
    "- Try to add more convolutional layers to the architecture\n",
    "- Try to add more nodes in the layers.\n",
    "\n",
    "You need to achieve **75% accuracy** ( See Step11 ) in order to get full marks for this part. \n",
    "\n",
    "**You do not need to implement anything for this, just changing the parameters as mentioned above and running the Notebook will give you the accuracy. ( Step 5 and Step 11 )**"
   ]
  },
  {
   "cell_type": "markdown",
   "metadata": {
    "cellIdentifier": "i6piccb23ck9ae02yha2cr",
    "deletable": false,
    "editable": false,
    "nbgrader": {
     "grade": false,
     "locked": true,
     "solution": false
    }
   },
   "source": [
    "Note that this notebook requires you to change a few stuff in the model to get the desired accuracy. Therefore you need train the model all over again (which seems to be time-consuming).   \n",
    "\n",
    "You can choose to execute this notebook in Google-Colab so that you have access to a GPU-machine and prototype faster.   \n",
    "\n",
    "Once the desired results are acheived, you can copy-paste the changes made in the Colab-notebook to this notebook so that the grading occurs on the latest code. \n",
    "\n",
    "You can access the Colab-notebook from [here](https://colab.research.google.com/drive/18lgSRmHPagJkB0xmDq5ZiWGkuWcHnUc2?usp=sharing)"
   ]
  },
  {
   "cell_type": "code",
   "execution_count": 1,
   "metadata": {
    "cellIdentifier": "bdp3zciunyvy5vpiyo1n1s",
    "deletable": false,
    "editable": false,
    "nbgrader": {
     "grade": false,
     "locked": true,
     "solution": false
    }
   },
   "outputs": [],
   "source": [
    "required_training = True"
   ]
  },
  {
   "cell_type": "code",
   "execution_count": 2,
   "metadata": {
    "cellIdentifier": "2mqxfmbnhfqv3utz2auve",
    "deletable": false,
    "editable": false,
    "nbgrader": {
     "grade": false,
     "locked": true,
     "solution": false
    }
   },
   "outputs": [],
   "source": [
    "%matplotlib inline"
   ]
  },
  {
   "cell_type": "code",
   "execution_count": 3,
   "metadata": {
    "cellIdentifier": "m15cfkoiis5zzhzvu6hoa",
    "deletable": false,
    "editable": false,
    "nbgrader": {
     "grade": false,
     "locked": true,
     "solution": false
    }
   },
   "outputs": [],
   "source": [
    "import matplotlib.pyplot as plt  # one of the best graphics library for python"
   ]
  },
  {
   "cell_type": "code",
   "execution_count": 4,
   "metadata": {
    "cellIdentifier": "a2vutt1lgsmdd3bgqunpzi",
    "deletable": false,
    "editable": false,
    "nbgrader": {
     "grade": false,
     "locked": true,
     "solution": false
    }
   },
   "outputs": [],
   "source": [
    "import os\n",
    "import time\n",
    "\n",
    "from typing import Iterable\n",
    "from dataclasses import dataclass\n",
    "\n",
    "import numpy as np\n",
    "import torch\n",
    "import torch.nn as nn\n",
    "import torch.optim as optim\n",
    "import torch.nn.functional as F\n",
    "\n",
    "from torchvision import datasets, transforms\n",
    "import torchvision"
   ]
  },
  {
   "cell_type": "markdown",
   "metadata": {
    "cellIdentifier": "z9ntvlm0gtous1c93sspd"
   },
   "source": [
    "# <font style=\"color:blue\">1. CNN Model Architecture [10 Points]</font>\n",
    "\n",
    "You have to write the model code here. You can take reference from LeNet code.\n",
    "\n",
    "If you do not get higher accuracy, here are a few hints:\n",
    "- Try to add more convolutional layers to the architecture\n",
    "- Try to add more nodes in the layers.\n"
   ]
  },
  {
   "cell_type": "code",
   "execution_count": 5,
   "metadata": {},
   "outputs": [],
   "source": [
    "class MyModel(nn.Module):\n",
    "    def __init__(self):\n",
    "        super().__init__()\n",
    "\n",
    "        # Convolutional layers\n",
    "        self.conv1 = nn.Sequential(\n",
    "            nn.Conv2d(3, 32, kernel_size=3, padding=1),\n",
    "            nn.BatchNorm2d(32),\n",
    "            nn.ReLU(),\n",
    "            nn.MaxPool2d(2, 2)\n",
    "        )\n",
    "\n",
    "        self.conv2 = nn.Sequential(\n",
    "            nn.Conv2d(32, 64, kernel_size=3, padding=1),\n",
    "            nn.BatchNorm2d(64),\n",
    "            nn.ReLU(),\n",
    "            nn.MaxPool2d(2, 2)\n",
    "        )\n",
    "\n",
    "        self.conv3 = nn.Sequential(\n",
    "            nn.Conv2d(64, 128, kernel_size=3, padding=1),\n",
    "            nn.BatchNorm2d(128),\n",
    "            nn.ReLU(),\n",
    "            nn.MaxPool2d(2, 2)\n",
    "        )\n",
    "\n",
    "        # ❗ 자동으로 conv 출력 크기 계산\n",
    "        dummy_input = torch.zeros(1, 3, 32, 32)\n",
    "        dummy_output = self.conv3(self.conv2(self.conv1(dummy_input)))\n",
    "        flattened_size = dummy_output.view(1, -1).size(1)\n",
    "\n",
    "        # Fully connected layers\n",
    "        self.fc1 = nn.Sequential(\n",
    "            nn.Linear(flattened_size, 512),  # 노드를 512개로 확장\n",
    "            nn.ReLU()\n",
    "        )\n",
    "\n",
    "        \n",
    "        self.fc2 = nn.Sequential(\n",
    "            nn.Linear(512, 256),\n",
    "            nn.ReLU(),\n",
    "            nn.Dropout(0.5)  # 50% 확률로 뉴런 비활성화\n",
    "        )\n",
    "        self.fc3 = nn.Sequential(\n",
    "            nn.Linear(256, 128),  # 추가 레이어\n",
    "            nn.ReLU()\n",
    "        )\n",
    "\n",
    "        self.fc4 = nn.Linear(128, 10)  # 최종 출력층\n",
    "\n",
    "    def forward(self, x):\n",
    "        x = self.conv1(x)   # Conv2d + ReLU + Pooling\n",
    "        x = self.conv2(x)   # Conv2d + ReLU + Pooling\n",
    "        x = self.conv3(x)   # 새로 추가된 convolutional layer\n",
    "        \n",
    "        x = x.view(x.size(0), -1)  # Flatten\n",
    "        \n",
    "        x = self.fc1(x)\n",
    "        x = self.fc2(x)\n",
    "        x = self.fc3(x)\n",
    "        x = self.fc4(x)  # 최종 출력층 (10개 클래스용)\n",
    "        return x   \n",
    "    "
   ]
  },
  {
   "cell_type": "markdown",
   "metadata": {
    "cellIdentifier": "82r47zxwamw5nk0ag0zr3l",
    "deletable": false,
    "editable": false,
    "nbgrader": {
     "grade": false,
     "locked": true,
     "solution": false
    }
   },
   "source": [
    "# <font style=\"color:blue\">2. Display the Network</font>"
   ]
  },
  {
   "cell_type": "code",
   "execution_count": 6,
   "metadata": {
    "cellIdentifier": "2vxw4zt7hvzraxf68haup8",
    "deletable": false,
    "editable": false,
    "nbgrader": {
     "grade": false,
     "locked": true,
     "solution": false
    }
   },
   "outputs": [
    {
     "name": "stdout",
     "output_type": "stream",
     "text": [
      "MyModel(\n",
      "  (conv1): Sequential(\n",
      "    (0): Conv2d(3, 32, kernel_size=(3, 3), stride=(1, 1), padding=(1, 1))\n",
      "    (1): BatchNorm2d(32, eps=1e-05, momentum=0.1, affine=True, track_running_stats=True)\n",
      "    (2): ReLU()\n",
      "    (3): MaxPool2d(kernel_size=2, stride=2, padding=0, dilation=1, ceil_mode=False)\n",
      "  )\n",
      "  (conv2): Sequential(\n",
      "    (0): Conv2d(32, 64, kernel_size=(3, 3), stride=(1, 1), padding=(1, 1))\n",
      "    (1): BatchNorm2d(64, eps=1e-05, momentum=0.1, affine=True, track_running_stats=True)\n",
      "    (2): ReLU()\n",
      "    (3): MaxPool2d(kernel_size=2, stride=2, padding=0, dilation=1, ceil_mode=False)\n",
      "  )\n",
      "  (conv3): Sequential(\n",
      "    (0): Conv2d(64, 128, kernel_size=(3, 3), stride=(1, 1), padding=(1, 1))\n",
      "    (1): BatchNorm2d(128, eps=1e-05, momentum=0.1, affine=True, track_running_stats=True)\n",
      "    (2): ReLU()\n",
      "    (3): MaxPool2d(kernel_size=2, stride=2, padding=0, dilation=1, ceil_mode=False)\n",
      "  )\n",
      "  (fc1): Sequential(\n",
      "    (0): Linear(in_features=2048, out_features=512, bias=True)\n",
      "    (1): ReLU()\n",
      "  )\n",
      "  (fc2): Sequential(\n",
      "    (0): Linear(in_features=512, out_features=256, bias=True)\n",
      "    (1): ReLU()\n",
      "    (2): Dropout(p=0.5, inplace=False)\n",
      "  )\n",
      "  (fc3): Sequential(\n",
      "    (0): Linear(in_features=256, out_features=128, bias=True)\n",
      "    (1): ReLU()\n",
      "  )\n",
      "  (fc4): Linear(in_features=128, out_features=10, bias=True)\n",
      ")\n"
     ]
    }
   ],
   "source": [
    "my_model = MyModel()\n",
    "print(my_model)"
   ]
  },
  {
   "cell_type": "code",
   "execution_count": 7,
   "metadata": {
    "cellIdentifier": "7jxyhg2jr13fo9ebdcng6",
    "deletable": false,
    "editable": false,
    "nbgrader": {
     "grade": true,
     "grade_id": "Conv2d",
     "locked": true,
     "points": "3",
     "solution": false
    }
   },
   "outputs": [],
   "source": [
    "###\n",
    "### AUTOGRADER TEST - DO NOT REMOVE\n",
    "###\n"
   ]
  },
  {
   "cell_type": "code",
   "execution_count": 8,
   "metadata": {
    "cellIdentifier": "1kafcdxptfas9wt1mtc9d",
    "deletable": false,
    "editable": false,
    "nbgrader": {
     "grade": true,
     "grade_id": "BatchNorm2d",
     "locked": true,
     "points": "2",
     "solution": false
    }
   },
   "outputs": [],
   "source": [
    "###\n",
    "### AUTOGRADER TEST - DO NOT REMOVE\n",
    "###\n"
   ]
  },
  {
   "cell_type": "code",
   "execution_count": 9,
   "metadata": {
    "cellIdentifier": "vz1jjdbikukvzjqlw289j8",
    "deletable": false,
    "editable": false,
    "nbgrader": {
     "grade": true,
     "grade_id": "ReLU",
     "locked": true,
     "points": "2",
     "solution": false
    }
   },
   "outputs": [],
   "source": [
    "###\n",
    "### AUTOGRADER TEST - DO NOT REMOVE\n",
    "###\n"
   ]
  },
  {
   "cell_type": "code",
   "execution_count": 10,
   "metadata": {
    "cellIdentifier": "r0n5ouo39s9ckr2an3upvr",
    "deletable": false,
    "editable": false,
    "nbgrader": {
     "grade": true,
     "grade_id": "input-output",
     "locked": true,
     "points": "3",
     "solution": false
    }
   },
   "outputs": [],
   "source": [
    "###\n",
    "### AUTOGRADER TEST - DO NOT REMOVE\n",
    "###\n"
   ]
  },
  {
   "cell_type": "markdown",
   "metadata": {
    "cellIdentifier": "2w1bzg2lz17m4p7it3ka5m",
    "deletable": false,
    "editable": false,
    "lines_to_next_cell": 2,
    "nbgrader": {
     "grade": false,
     "locked": true,
     "solution": false
    }
   },
   "source": [
    "# <font style=\"color:blue\">3. Find Mean and STD of CIFAR10 Data [5 Points]</font>\n",
    "\n",
    "Function **`get_mean_std_train_data`** should `return` `mean` and `std` of training data. You can refer to the code used in the previous section for finding the mean and std of the training data.\n",
    "\n"
   ]
  },
  {
   "cell_type": "code",
   "execution_count": 11,
   "metadata": {
    "cellIdentifier": "bomx0zgzdws5crmyeeuuf",
    "nbgrader": {
     "grade": false,
     "locked": false,
     "solution": false
    }
   },
   "outputs": [],
   "source": [
    "def get_mean_std_train_data(data_root):\n",
    "    \n",
    "    train_transform = transforms.Compose([transforms.ToTensor()])\n",
    "    train_set = datasets.CIFAR10(root=data_root, train=True, download=False, transform=train_transform)\n",
    "\n",
    "    loader = torch.utils.data.DataLoader(train_set, batch_size=128, shuffle=False)\n",
    "\n",
    "    mean = torch.zeros(3)\n",
    "    std = torch.zeros(3)\n",
    "    total_images = 0\n",
    "\n",
    "    for images, _ in loader:\n",
    "        batch_samples = images.size(0)\n",
    "        total_images += batch_samples\n",
    "        mean += images.mean(dim=[0, 2, 3]) * batch_samples\n",
    "        std += images.std(dim=[0, 2, 3]) * batch_samples\n",
    "\n",
    "    mean /= total_images\n",
    "    std /= total_images\n",
    "    \n",
    "    return mean, std\n",
    "\n"
   ]
  },
  {
   "cell_type": "code",
   "execution_count": 12,
   "metadata": {
    "cellIdentifier": "wlsdoa3fcb3zdmjxfy65f",
    "deletable": false,
    "editable": false,
    "lines_to_next_cell": 2,
    "nbgrader": {
     "grade": true,
     "grade_id": "mean",
     "locked": true,
     "points": "2",
     "solution": false
    }
   },
   "outputs": [],
   "source": [
    "###\n",
    "### AUTOGRADER TEST - DO NOT REMOVE\n",
    "###\n"
   ]
  },
  {
   "cell_type": "code",
   "execution_count": 13,
   "metadata": {
    "cellIdentifier": "78affgz9rpr7ze1zz6dd",
    "deletable": false,
    "editable": false,
    "lines_to_next_cell": 2,
    "nbgrader": {
     "grade": true,
     "grade_id": "std",
     "locked": true,
     "points": "3",
     "solution": false
    }
   },
   "outputs": [],
   "source": [
    "###\n",
    "### AUTOGRADER TEST - DO NOT REMOVE\n",
    "###\n"
   ]
  },
  {
   "cell_type": "code",
   "execution_count": 12,
   "metadata": {
    "cellIdentifier": "v7pk71ipkdk02b4eahkj757",
    "deletable": false,
    "editable": false,
    "nbgrader": {
     "grade": false,
     "locked": true,
     "solution": false
    }
   },
   "outputs": [],
   "source": [
    "def get_data(batch_size, data_root, num_workers=1):\n",
    "    \n",
    "    \n",
    "    try:\n",
    "        mean, std = get_mean_std_train_data(data_root)\n",
    "        assert len(mean) == len(std) == 3\n",
    "    except:\n",
    "        mean = np.array([0.5, 0.5, 0.5])\n",
    "        std = np.array([0.5, 0.5, 0.5])\n",
    "        \n",
    "    \n",
    "    train_test_transforms = transforms.Compose([\n",
    "        # this re-scale image tensor values between 0-1. image_tensor /= 255\n",
    "        transforms.ToTensor(),\n",
    "        # subtract mean and divide by variance.\n",
    "        transforms.Normalize(mean, std)\n",
    "    ])\n",
    "    \n",
    "    # train dataloader\n",
    "    train_loader = torch.utils.data.DataLoader(\n",
    "        datasets.CIFAR10(root=data_root, train=True, download=False, transform=train_test_transforms),\n",
    "        batch_size=batch_size,\n",
    "        shuffle=True,\n",
    "        num_workers=num_workers\n",
    "    )\n",
    "    \n",
    "    # test dataloader\n",
    "    test_loader = torch.utils.data.DataLoader(\n",
    "        datasets.CIFAR10(root=data_root, train=False, download=False, transform=train_test_transforms),\n",
    "        batch_size=batch_size,\n",
    "        shuffle=False,\n",
    "        num_workers=num_workers\n",
    "    )\n",
    "    return train_loader, test_loader"
   ]
  },
  {
   "cell_type": "markdown",
   "metadata": {
    "cellIdentifier": "5up4knt3fwsy1hoi94e9im",
    "deletable": false,
    "editable": false,
    "nbgrader": {
     "grade": false,
     "locked": true,
     "solution": false
    }
   },
   "source": [
    "# <font style=\"color:blue\">4. System Configuration</font>\n"
   ]
  },
  {
   "cell_type": "code",
   "execution_count": 13,
   "metadata": {
    "cellIdentifier": "fagvuub1ukss6t6co5hou",
    "deletable": false,
    "editable": false,
    "nbgrader": {
     "grade": false,
     "locked": true,
     "solution": false
    }
   },
   "outputs": [],
   "source": [
    "@dataclass\n",
    "class SystemConfiguration:\n",
    "    '''\n",
    "    Describes the common system setting needed for reproducible training\n",
    "    '''\n",
    "    seed: int = 42  # seed number to set the state of all random number generators\n",
    "    cudnn_benchmark_enabled: bool = True  # enable CuDNN benchmark for the sake of performance\n",
    "    cudnn_deterministic: bool = True  # make cudnn deterministic (reproducible training)"
   ]
  },
  {
   "cell_type": "markdown",
   "metadata": {
    "cellIdentifier": "l0lre097ollq6yvjm84n5",
    "deletable": false,
    "editable": false,
    "nbgrader": {
     "grade": false,
     "locked": true,
     "solution": false
    }
   },
   "source": [
    "# <font style=\"color:blue\">5. Training Configuration [15 Points]</font>\n",
    "All training parameters are defined here. So, \n",
    "This is where you can improve your accuracy, apart from improving the architecture. \n",
    "\n",
    "Here are a few hints on how you can improve the accuracy:\n",
    "- Train for longer duration\n",
    "- Try with different learning rate\n",
    "\n",
    "**You need to achieve 75% accuracy in order to get full marks for this part.**\n",
    "\n",
    "**You will see the effect of these changes when you run Step 11**"
   ]
  },
  {
   "cell_type": "code",
   "execution_count": 14,
   "metadata": {
    "cellIdentifier": "yq5cqxf7s8nqq85qkaakh",
    "nbgrader": {
     "grade": false,
     "locked": false,
     "solution": false
    }
   },
   "outputs": [],
   "source": [
    "@dataclass\n",
    "class TrainingConfiguration:\n",
    "    '''\n",
    "    Describes configuration of the training process\n",
    "    '''\n",
    "    # batch_size: int = 16  # amount of data to pass through the network at each forward-backward iteration\n",
    "    # epochs_count: int = 2  # number of times the whole dataset will be passed through the network\n",
    "    # learning_rate: float = 0.05  # determines the speed of network's weights update\n",
    "        \n",
    "    log_interval: int = 100  # how many batches to wait between logging training status\n",
    "    test_interval: int = 1  # how many epochs to wait before another test. Set to 1 to get val loss at each epoch\n",
    "    data_root: str = \"../data\"  # folder to save data\n",
    "    num_workers: int = 10  # number of concurrent processes using to prepare data\n",
    "    device: str = 'cuda'  # device to use for training.\n",
    "    # update changed parameters in blow coding block.\n",
    "    # Please do not change \"data_root\" \n",
    "    \n",
    "    batch_size: int = 128  # 더 큰 배치로 안정적 학습\n",
    "    epochs_count: int = 50  # 충분한 에폭수로 학습 정확도 향상\n",
    "    learning_rate: float = 0.01  # 일반적으로 안정적인 학습률\n",
    "    \n",
    "    log_interval: int = 100\n",
    "    test_interval: int = 1\n",
    "    data_root: str = \"../data\"\n",
    "    num_workers: int = 10\n",
    "    device: str = 'cuda'\n"
   ]
  },
  {
   "cell_type": "markdown",
   "metadata": {
    "cellIdentifier": "lkrylbjt79g86hqh6levgm",
    "deletable": false,
    "editable": false,
    "nbgrader": {
     "grade": false,
     "locked": true,
     "solution": false
    }
   },
   "source": [
    "# <font style=\"color:blue\">6. System Setup</font>\n"
   ]
  },
  {
   "cell_type": "code",
   "execution_count": 15,
   "metadata": {
    "cellIdentifier": "5r1xkcnwe7l4m2dzdwpy6u",
    "deletable": false,
    "editable": false,
    "nbgrader": {
     "grade": false,
     "locked": true,
     "solution": false
    }
   },
   "outputs": [],
   "source": [
    "def setup_system(system_config: SystemConfiguration) -> None:\n",
    "    torch.manual_seed(system_config.seed)\n",
    "    if torch.cuda.is_available():\n",
    "        torch.backends.cudnn_benchmark_enabled = system_config.cudnn_benchmark_enabled\n",
    "        torch.backends.cudnn.deterministic = system_config.cudnn_deterministic"
   ]
  },
  {
   "cell_type": "markdown",
   "metadata": {
    "cellIdentifier": "zje6bf6g4wcheg7fjseah",
    "deletable": false,
    "editable": false,
    "nbgrader": {
     "grade": false,
     "locked": true,
     "solution": false
    }
   },
   "source": [
    "# <font style=\"color:blue\">7. Training</font>\n",
    "We are familiar with the training pipeline used in PyTorch. The following steps are performed in the code below:\n",
    "\n",
    "1. Send the data to the required device ( CPU/GPU )\n",
    "1. Make a forward pass using the forward method.\n",
    "1. Find the loss using the Cross_Entropy function.\n",
    "1. Find the gradients using the backward function.\n",
    "1. Update the weights using the optimizer.\n",
    "1. Find the accuracy of the model\n",
    "\n",
    "Repeat the above for the specified number of epochs."
   ]
  },
  {
   "cell_type": "code",
   "execution_count": 16,
   "metadata": {
    "cellIdentifier": "a8wif5mwjhh8qud92ds2a8",
    "deletable": false,
    "editable": false,
    "nbgrader": {
     "grade": false,
     "locked": true,
     "solution": false
    }
   },
   "outputs": [],
   "source": [
    "def train(\n",
    "    train_config: TrainingConfiguration, model: nn.Module, optimizer: torch.optim.Optimizer,\n",
    "    train_loader: torch.utils.data.DataLoader, epoch_idx: int\n",
    ") -> None:\n",
    "    \n",
    "    # change model in training mood\n",
    "    model.train()\n",
    "    \n",
    "    # to get batch loss\n",
    "    batch_loss = np.array([])\n",
    "    \n",
    "    # to get batch accuracy\n",
    "    batch_acc = np.array([])\n",
    "        \n",
    "    for batch_idx, (data, target) in enumerate(train_loader):\n",
    "        \n",
    "        # clone target\n",
    "        indx_target = target.clone()\n",
    "        # send data to device (its is medatory if GPU has to be used)\n",
    "        data = data.to(train_config.device)\n",
    "        # send target to device\n",
    "        target = target.to(train_config.device)\n",
    "\n",
    "        # reset parameters gradient to zero\n",
    "        optimizer.zero_grad()\n",
    "        \n",
    "        # forward pass to the model\n",
    "        output = model(data)\n",
    "        \n",
    "        # cross entropy loss\n",
    "        loss = F.cross_entropy(output, target)\n",
    "        \n",
    "        # find gradients w.r.t training parameters\n",
    "        loss.backward()\n",
    "        # Update parameters using gardients\n",
    "        optimizer.step()\n",
    "        \n",
    "        batch_loss = np.append(batch_loss, [loss.item()])\n",
    "        \n",
    "        # Score to probability using softmax\n",
    "        prob = F.softmax(output, dim=1)\n",
    "            \n",
    "        # get the index of the max probability\n",
    "        pred = prob.data.max(dim=1)[1]  \n",
    "                        \n",
    "        # correct prediction\n",
    "        correct = pred.cpu().eq(indx_target).sum()\n",
    "            \n",
    "        # accuracy\n",
    "        acc = float(correct) / float(len(data))\n",
    "        \n",
    "        batch_acc = np.append(batch_acc, [acc])\n",
    "\n",
    "        if batch_idx % train_config.log_interval == 0 and batch_idx > 0:              \n",
    "            print(\n",
    "                'Train Epoch: {} [{}/{}] Loss: {:.6f} Acc: {:.4f}'.format(\n",
    "                    epoch_idx, batch_idx * len(data), len(train_loader.dataset), loss.item(), acc\n",
    "                )\n",
    "            )\n",
    "            \n",
    "    epoch_loss = batch_loss.mean()\n",
    "    epoch_acc = batch_acc.mean()\n",
    "    return epoch_loss, epoch_acc"
   ]
  },
  {
   "cell_type": "markdown",
   "metadata": {
    "cellIdentifier": "ujordre7g0rdvcq81xru2",
    "deletable": false,
    "editable": false,
    "nbgrader": {
     "grade": false,
     "locked": true,
     "solution": false
    }
   },
   "source": [
    "# <font style=\"color:blue\">8. Validation</font>\n",
    "\n",
    "After every few epochs **`validation`** will be called with the `trained model` and `test_loader` to get validation loss and accuracy."
   ]
  },
  {
   "cell_type": "code",
   "execution_count": 17,
   "metadata": {
    "cellIdentifier": "g3kojdif2idrpgh71wf24",
    "deletable": false,
    "editable": false,
    "nbgrader": {
     "grade": false,
     "locked": true,
     "solution": false
    }
   },
   "outputs": [],
   "source": [
    "def validate(\n",
    "    train_config: TrainingConfiguration,\n",
    "    model: nn.Module,\n",
    "    test_loader: torch.utils.data.DataLoader,\n",
    ") -> float:\n",
    "    model.eval()\n",
    "    test_loss = 0\n",
    "    count_corect_predictions = 0\n",
    "    for data, target in test_loader:\n",
    "        indx_target = target.clone()\n",
    "        data = data.to(train_config.device)\n",
    "        \n",
    "        target = target.to(train_config.device)\n",
    "        \n",
    "        output = model(data)\n",
    "        # add loss for each mini batch\n",
    "        test_loss += F.cross_entropy(output, target).item()\n",
    "        \n",
    "        # Score to probability using softmax\n",
    "        prob = F.softmax(output, dim=1)\n",
    "        \n",
    "        # get the index of the max probability\n",
    "        pred = prob.data.max(dim=1)[1] \n",
    "        \n",
    "        # add correct prediction count\n",
    "        count_corect_predictions += pred.cpu().eq(indx_target).sum()\n",
    "\n",
    "    # average over number of mini-batches\n",
    "    test_loss = test_loss / len(test_loader)  \n",
    "    \n",
    "    # average over number of dataset\n",
    "    accuracy = 100. * count_corect_predictions / len(test_loader.dataset)\n",
    "    \n",
    "    print(\n",
    "        '\\nTest set: Average loss: {:.4f}, Accuracy: {}/{} ({:.0f}%)\\n'.format(\n",
    "            test_loss, count_corect_predictions, len(test_loader.dataset), accuracy\n",
    "        )\n",
    "    )\n",
    "    return test_loss, accuracy/100.0"
   ]
  },
  {
   "cell_type": "markdown",
   "metadata": {
    "cellIdentifier": "jgdx3fdabj7lyi851rbe5",
    "deletable": false,
    "editable": false,
    "nbgrader": {
     "grade": false,
     "locked": true,
     "solution": false
    }
   },
   "source": [
    "# <font style=\"color:blue\">9. Saving the Model</font>"
   ]
  },
  {
   "cell_type": "code",
   "execution_count": 18,
   "metadata": {
    "cellIdentifier": "2a7ki4yivfr4omhaehg41j",
    "deletable": false,
    "editable": false,
    "nbgrader": {
     "grade": false,
     "locked": true,
     "solution": false
    }
   },
   "outputs": [],
   "source": [
    "def save_model(model, device, model_dir='models', model_file_name='cifar10_cnn_model.pt'):\n",
    "    \n",
    "\n",
    "    if not os.path.exists(model_dir):\n",
    "        os.makedirs(model_dir)\n",
    "\n",
    "    model_path = os.path.join(model_dir, model_file_name)\n",
    "\n",
    "    # make sure you transfer the model to cpu.\n",
    "    if device == 'cuda':\n",
    "        model.to('cpu')\n",
    "\n",
    "    # save the state_dict\n",
    "    if int(torch.__version__.split('.')[1]) >= 6:\n",
    "        torch.save(model.state_dict(), model_path, _use_new_zipfile_serialization=False)\n",
    "    \n",
    "    else:\n",
    "        torch.save(model.state_dict(), model_path)\n",
    "    \n",
    "    if device == 'cuda':\n",
    "        model.to('cuda')\n",
    "    \n",
    "    return"
   ]
  },
  {
   "cell_type": "markdown",
   "metadata": {
    "cellIdentifier": "ya93w7o55gwdjdcab3s4",
    "deletable": false,
    "editable": false,
    "nbgrader": {
     "grade": false,
     "locked": true,
     "solution": false
    }
   },
   "source": [
    "# <font style=\"color:blue\">10. Main</font>\n",
    "\n",
    "In this section of code, we use the configuration parameters defined above and start the training. Here are the important actions being taken in the code below:\n",
    "\n",
    "1. Set up system parameters like CPU/GPU, number of threads etc\n",
    "1. Load the data using dataloaders\n",
    "1. Create an instance of the LeNet model\n",
    "1. Specify optimizer to use.\n",
    "1. Set up variables to track loss and accuracy and start training.\n",
    "1. If loss decreases, saving the model"
   ]
  },
  {
   "cell_type": "code",
   "execution_count": 19,
   "metadata": {
    "cellIdentifier": "8qb72kt5bba2amhxjp8p3",
    "deletable": false,
    "editable": false,
    "nbgrader": {
     "grade": false,
     "locked": true,
     "solution": false
    }
   },
   "outputs": [],
   "source": [
    "def main(system_configuration=SystemConfiguration(), training_configuration=TrainingConfiguration()):\n",
    "    \n",
    "    # system configuration\n",
    "    setup_system(system_configuration)\n",
    "\n",
    "    # batch size\n",
    "    batch_size_to_set = training_configuration.batch_size\n",
    "    # num_workers\n",
    "    num_workers_to_set = training_configuration.num_workers\n",
    "    # epochs\n",
    "    epoch_num_to_set = training_configuration.epochs_count\n",
    "\n",
    "    # if GPU is available use training config, \n",
    "    # else lowers batch_size, num_workers and epochs count\n",
    "    if torch.cuda.is_available():\n",
    "        device = \"cuda\"\n",
    "    else:\n",
    "        device = \"cpu\"\n",
    "        num_workers_to_set = 2\n",
    "\n",
    "    # data loader\n",
    "    train_loader, test_loader = get_data(\n",
    "        batch_size=training_configuration.batch_size,\n",
    "        data_root=training_configuration.data_root,\n",
    "        num_workers=num_workers_to_set\n",
    "    )\n",
    "    \n",
    "    # Update training configuration\n",
    "    training_configuration = TrainingConfiguration(\n",
    "        device=device,\n",
    "        num_workers=num_workers_to_set\n",
    "    )\n",
    "\n",
    "    # initiate model\n",
    "    model = MyModel()\n",
    "        \n",
    "    # send model to device (GPU/CPU)\n",
    "    model.to(training_configuration.device)\n",
    "\n",
    "    # optimizer\n",
    "    optimizer = optim.SGD(\n",
    "        model.parameters(),\n",
    "        lr=training_configuration.learning_rate\n",
    "    )\n",
    "\n",
    "    best_loss = torch.tensor(np.inf)\n",
    "    best_accuracy = torch.tensor(0)\n",
    "    \n",
    "    # epoch train/test loss\n",
    "    epoch_train_loss = np.array([])\n",
    "    epoch_test_loss = np.array([])\n",
    "    \n",
    "    # epch train/test accuracy\n",
    "    epoch_train_acc = np.array([])\n",
    "    epoch_test_acc = np.array([])\n",
    "    \n",
    "    # trainig time measurement\n",
    "    t_begin = time.time()\n",
    "    for epoch in range(training_configuration.epochs_count):\n",
    "        \n",
    "        train_loss, train_acc = train(training_configuration, model, optimizer, train_loader, epoch)\n",
    "        \n",
    "        epoch_train_loss = np.append(epoch_train_loss, [train_loss])\n",
    "        \n",
    "        epoch_train_acc = np.append(epoch_train_acc, [train_acc])\n",
    "\n",
    "        elapsed_time = time.time() - t_begin\n",
    "        speed_epoch = elapsed_time / (epoch + 1)\n",
    "        speed_batch = speed_epoch / len(train_loader)\n",
    "        eta = speed_epoch * training_configuration.epochs_count - elapsed_time\n",
    "        \n",
    "        print(\n",
    "            \"Elapsed {:.2f}s, {:.2f} s/epoch, {:.2f} s/batch, ets {:.2f}s\".format(\n",
    "                elapsed_time, speed_epoch, speed_batch, eta\n",
    "            )\n",
    "        )\n",
    "\n",
    "        if epoch % training_configuration.test_interval == 0:\n",
    "            current_loss, current_accuracy = validate(training_configuration, model, test_loader)\n",
    "            \n",
    "            epoch_test_loss = np.append(epoch_test_loss, [current_loss])\n",
    "        \n",
    "            epoch_test_acc = np.append(epoch_test_acc, [current_accuracy])\n",
    "            \n",
    "            if current_loss < best_loss:\n",
    "                best_loss = current_loss\n",
    "            \n",
    "            if current_accuracy > best_accuracy:\n",
    "                best_accuracy = current_accuracy\n",
    "                print('Accuracy improved, saving the model.\\n')\n",
    "                save_model(model, device)\n",
    "            \n",
    "                \n",
    "    print(\"Total time: {:.2f}, Best Loss: {:.3f}, Best Accuracy: {:.3f}\".format(time.time() - t_begin, best_loss, \n",
    "                                                                                best_accuracy))\n",
    "    \n",
    "    return model, epoch_train_loss, epoch_train_acc, epoch_test_loss, epoch_test_acc"
   ]
  },
  {
   "cell_type": "code",
   "execution_count": 20,
   "metadata": {
    "cellIdentifier": "nexr1w5pj401mzc5bu3gmu",
    "deletable": false,
    "editable": false,
    "nbgrader": {
     "grade": true,
     "grade_id": "Accuracy",
     "locked": true,
     "points": "15",
     "solution": false
    }
   },
   "outputs": [],
   "source": [
    "###\n",
    "### AUTOGRADER TEST - DO NOT REMOVE\n",
    "###\n"
   ]
  },
  {
   "cell_type": "markdown",
   "metadata": {
    "cellIdentifier": "pnzw8u9annhm6iig0j3ot9"
   },
   "source": [
    "# <font style=\"color:blue\">Step 11: Start Training</font>\n",
    "This is where you start the training. You may see that the training does not converge or does not give a good accuracy. You need to change \n",
    "- In Step 1: the network architecture and add a few more layers or more nodes to the already existing layers\n",
    "- In Step 5: training parameters such as learning rate or batch_size or epochs so that the network converges or run the network for longer so that it gets more time to fit the data\n",
    "\n",
    "**You need to make sure that the accuracy at the end is at least 75%.**"
   ]
  },
  {
   "cell_type": "code",
   "execution_count": 21,
   "metadata": {},
   "outputs": [],
   "source": [
    "def forward(self, x):\n",
    "    x = self.conv1(x)   # Conv2d + ReLU + Pooling\n",
    "    x = self.conv2(x)   # Conv2d + ReLU + Pooling\n",
    "    x = self.conv3(x)   # 새로 추가된 convolutional layer\n",
    "    print(x.shape)      # 디버깅용 → torch.Size([batch, channels, height, width])\n",
    "\n",
    "    x = x.view(x.size(0), -1)  # Flatten\n",
    "    print(x.shape)             # → torch.Size([batch, N])\n",
    "    \n",
    "    x = self.fc1(x)\n",
    "    x = self.fc2(x)\n",
    "    x = self.fc3(x)\n",
    "    x = self.fc4(x)  # 최종 출력층 (10개 클래스용)\n",
    "    return x"
   ]
  },
  {
   "cell_type": "code",
   "execution_count": 22,
   "metadata": {
    "cellIdentifier": "naqs4kufns9ms9j4hjsyzh",
    "deletable": false,
    "editable": false,
    "nbgrader": {
     "grade": false,
     "locked": true,
     "solution": false
    },
    "scrolled": true
   },
   "outputs": [
    {
     "name": "stdout",
     "output_type": "stream",
     "text": [
      "Train Epoch: 0 [12800/50000] Loss: 2.269507 Acc: 0.2344\n",
      "Train Epoch: 0 [25600/50000] Loss: 2.175064 Acc: 0.1875\n",
      "Train Epoch: 0 [38400/50000] Loss: 1.975658 Acc: 0.2422\n",
      "Elapsed 52.68s, 52.68 s/epoch, 0.13 s/batch, ets 2581.19s\n",
      "\n",
      "Test set: Average loss: 1.7921, Accuracy: 3583/10000 (36%)\n",
      "\n",
      "Accuracy improved, saving the model.\n",
      "\n",
      "Train Epoch: 1 [12800/50000] Loss: 1.730986 Acc: 0.3281\n",
      "Train Epoch: 1 [25600/50000] Loss: 1.519753 Acc: 0.4609\n",
      "Train Epoch: 1 [38400/50000] Loss: 1.527310 Acc: 0.4531\n",
      "Elapsed 112.49s, 56.25 s/epoch, 0.14 s/batch, ets 2699.85s\n",
      "\n",
      "Test set: Average loss: 1.5143, Accuracy: 4460/10000 (45%)\n",
      "\n",
      "Accuracy improved, saving the model.\n",
      "\n",
      "Train Epoch: 2 [12800/50000] Loss: 1.482833 Acc: 0.4453\n",
      "Train Epoch: 2 [25600/50000] Loss: 1.417135 Acc: 0.4609\n",
      "Train Epoch: 2 [38400/50000] Loss: 1.416611 Acc: 0.4766\n",
      "Elapsed 173.61s, 57.87 s/epoch, 0.15 s/batch, ets 2719.95s\n",
      "\n",
      "Test set: Average loss: 1.3340, Accuracy: 5063/10000 (51%)\n",
      "\n",
      "Accuracy improved, saving the model.\n",
      "\n",
      "Train Epoch: 3 [12800/50000] Loss: 1.471131 Acc: 0.4453\n",
      "Train Epoch: 3 [25600/50000] Loss: 1.222158 Acc: 0.5469\n",
      "Train Epoch: 3 [38400/50000] Loss: 1.262548 Acc: 0.5234\n",
      "Elapsed 233.59s, 58.40 s/epoch, 0.15 s/batch, ets 2686.25s\n",
      "\n",
      "Test set: Average loss: 1.3018, Accuracy: 5210/10000 (52%)\n",
      "\n",
      "Accuracy improved, saving the model.\n",
      "\n",
      "Train Epoch: 4 [12800/50000] Loss: 1.147655 Acc: 0.5859\n",
      "Train Epoch: 4 [25600/50000] Loss: 1.252305 Acc: 0.5781\n",
      "Train Epoch: 4 [38400/50000] Loss: 1.143773 Acc: 0.5625\n",
      "Elapsed 294.50s, 58.90 s/epoch, 0.15 s/batch, ets 2650.51s\n",
      "\n",
      "Test set: Average loss: 1.1988, Accuracy: 5614/10000 (56%)\n",
      "\n",
      "Accuracy improved, saving the model.\n",
      "\n",
      "Train Epoch: 5 [12800/50000] Loss: 0.996093 Acc: 0.6641\n",
      "Train Epoch: 5 [25600/50000] Loss: 1.140883 Acc: 0.6094\n",
      "Train Epoch: 5 [38400/50000] Loss: 1.075371 Acc: 0.6719\n",
      "Elapsed 354.17s, 59.03 s/epoch, 0.15 s/batch, ets 2597.22s\n",
      "\n",
      "Test set: Average loss: 1.0300, Accuracy: 6324/10000 (63%)\n",
      "\n",
      "Accuracy improved, saving the model.\n",
      "\n",
      "Train Epoch: 6 [12800/50000] Loss: 0.977900 Acc: 0.6094\n",
      "Train Epoch: 6 [25600/50000] Loss: 0.956858 Acc: 0.6172\n",
      "Train Epoch: 6 [38400/50000] Loss: 1.095954 Acc: 0.6094\n",
      "Elapsed 414.10s, 59.16 s/epoch, 0.15 s/batch, ets 2543.74s\n",
      "\n",
      "Test set: Average loss: 0.9992, Accuracy: 6445/10000 (64%)\n",
      "\n",
      "Accuracy improved, saving the model.\n",
      "\n",
      "Train Epoch: 7 [12800/50000] Loss: 1.023869 Acc: 0.6562\n",
      "Train Epoch: 7 [25600/50000] Loss: 1.014269 Acc: 0.5859\n",
      "Train Epoch: 7 [38400/50000] Loss: 0.900160 Acc: 0.6719\n",
      "Elapsed 473.60s, 59.20 s/epoch, 0.15 s/batch, ets 2486.40s\n",
      "\n",
      "Test set: Average loss: 0.9988, Accuracy: 6423/10000 (64%)\n",
      "\n",
      "Train Epoch: 8 [12800/50000] Loss: 0.932796 Acc: 0.6953\n",
      "Train Epoch: 8 [25600/50000] Loss: 0.826147 Acc: 0.7422\n",
      "Train Epoch: 8 [38400/50000] Loss: 0.805107 Acc: 0.7188\n",
      "Elapsed 532.89s, 59.21 s/epoch, 0.15 s/batch, ets 2427.60s\n",
      "\n",
      "Test set: Average loss: 0.9641, Accuracy: 6596/10000 (66%)\n",
      "\n",
      "Accuracy improved, saving the model.\n",
      "\n",
      "Train Epoch: 9 [12800/50000] Loss: 0.936029 Acc: 0.6328\n",
      "Train Epoch: 9 [25600/50000] Loss: 0.864012 Acc: 0.6719\n",
      "Train Epoch: 9 [38400/50000] Loss: 0.792771 Acc: 0.7422\n",
      "Elapsed 592.98s, 59.30 s/epoch, 0.15 s/batch, ets 2371.90s\n",
      "\n",
      "Test set: Average loss: 0.8867, Accuracy: 6889/10000 (69%)\n",
      "\n",
      "Accuracy improved, saving the model.\n",
      "\n",
      "Train Epoch: 10 [12800/50000] Loss: 0.808272 Acc: 0.7344\n",
      "Train Epoch: 10 [25600/50000] Loss: 0.838184 Acc: 0.7109\n",
      "Train Epoch: 10 [38400/50000] Loss: 0.719861 Acc: 0.7266\n",
      "Elapsed 652.69s, 59.34 s/epoch, 0.15 s/batch, ets 2314.08s\n",
      "\n",
      "Test set: Average loss: 1.0133, Accuracy: 6519/10000 (65%)\n",
      "\n",
      "Train Epoch: 11 [12800/50000] Loss: 0.964110 Acc: 0.6641\n",
      "Train Epoch: 11 [25600/50000] Loss: 0.674970 Acc: 0.8047\n",
      "Train Epoch: 11 [38400/50000] Loss: 0.894063 Acc: 0.7031\n",
      "Elapsed 712.89s, 59.41 s/epoch, 0.15 s/batch, ets 2257.49s\n",
      "\n",
      "Test set: Average loss: 0.8509, Accuracy: 6976/10000 (70%)\n",
      "\n",
      "Accuracy improved, saving the model.\n",
      "\n",
      "Train Epoch: 12 [12800/50000] Loss: 0.718985 Acc: 0.7422\n",
      "Train Epoch: 12 [25600/50000] Loss: 0.852442 Acc: 0.6641\n",
      "Train Epoch: 12 [38400/50000] Loss: 0.705077 Acc: 0.7891\n",
      "Elapsed 772.59s, 59.43 s/epoch, 0.15 s/batch, ets 2198.91s\n",
      "\n",
      "Test set: Average loss: 0.8072, Accuracy: 7192/10000 (72%)\n",
      "\n",
      "Accuracy improved, saving the model.\n",
      "\n",
      "Train Epoch: 13 [12800/50000] Loss: 0.634201 Acc: 0.7891\n",
      "Train Epoch: 13 [25600/50000] Loss: 0.640688 Acc: 0.7891\n",
      "Train Epoch: 13 [38400/50000] Loss: 0.646186 Acc: 0.7266\n",
      "Elapsed 832.19s, 59.44 s/epoch, 0.15 s/batch, ets 2139.91s\n",
      "\n",
      "Test set: Average loss: 0.8503, Accuracy: 7120/10000 (71%)\n",
      "\n",
      "Train Epoch: 14 [12800/50000] Loss: 0.598434 Acc: 0.7891\n",
      "Train Epoch: 14 [25600/50000] Loss: 0.713939 Acc: 0.7422\n",
      "Train Epoch: 14 [38400/50000] Loss: 0.615434 Acc: 0.7891\n",
      "Elapsed 891.76s, 59.45 s/epoch, 0.15 s/batch, ets 2080.76s\n",
      "\n",
      "Test set: Average loss: 0.8063, Accuracy: 7232/10000 (72%)\n",
      "\n",
      "Accuracy improved, saving the model.\n",
      "\n",
      "Train Epoch: 15 [12800/50000] Loss: 0.685492 Acc: 0.7109\n",
      "Train Epoch: 15 [25600/50000] Loss: 0.577688 Acc: 0.8125\n",
      "Train Epoch: 15 [38400/50000] Loss: 0.575144 Acc: 0.7969\n",
      "Elapsed 951.49s, 59.47 s/epoch, 0.15 s/batch, ets 2021.92s\n",
      "\n",
      "Test set: Average loss: 0.8259, Accuracy: 7182/10000 (72%)\n",
      "\n",
      "Train Epoch: 16 [12800/50000] Loss: 0.675635 Acc: 0.7109\n",
      "Train Epoch: 16 [25600/50000] Loss: 0.651806 Acc: 0.7734\n",
      "Train Epoch: 16 [38400/50000] Loss: 0.523409 Acc: 0.8516\n",
      "Elapsed 1010.80s, 59.46 s/epoch, 0.15 s/batch, ets 1962.15s\n",
      "\n",
      "Test set: Average loss: 0.9097, Accuracy: 7025/10000 (70%)\n",
      "\n",
      "Train Epoch: 17 [12800/50000] Loss: 0.521758 Acc: 0.8281\n",
      "Train Epoch: 17 [25600/50000] Loss: 0.621668 Acc: 0.7578\n",
      "Train Epoch: 17 [38400/50000] Loss: 0.512126 Acc: 0.8594\n",
      "Elapsed 1070.48s, 59.47 s/epoch, 0.15 s/batch, ets 1903.08s\n",
      "\n",
      "Test set: Average loss: 0.7843, Accuracy: 7349/10000 (73%)\n",
      "\n",
      "Accuracy improved, saving the model.\n",
      "\n",
      "Train Epoch: 18 [12800/50000] Loss: 0.633188 Acc: 0.7969\n",
      "Train Epoch: 18 [25600/50000] Loss: 0.444964 Acc: 0.8203\n",
      "Train Epoch: 18 [38400/50000] Loss: 0.588820 Acc: 0.7812\n",
      "Elapsed 1131.39s, 59.55 s/epoch, 0.15 s/batch, ets 1845.95s\n",
      "\n",
      "Test set: Average loss: 0.8440, Accuracy: 7180/10000 (72%)\n",
      "\n",
      "Train Epoch: 19 [12800/50000] Loss: 0.387235 Acc: 0.8438\n",
      "Train Epoch: 19 [25600/50000] Loss: 0.577035 Acc: 0.8203\n",
      "Train Epoch: 19 [38400/50000] Loss: 0.590436 Acc: 0.7734\n",
      "Elapsed 1191.71s, 59.59 s/epoch, 0.15 s/batch, ets 1787.56s\n",
      "\n",
      "Test set: Average loss: 0.7730, Accuracy: 7351/10000 (74%)\n",
      "\n",
      "Accuracy improved, saving the model.\n",
      "\n",
      "Train Epoch: 20 [12800/50000] Loss: 0.484914 Acc: 0.8438\n",
      "Train Epoch: 20 [25600/50000] Loss: 0.468712 Acc: 0.8438\n",
      "Train Epoch: 20 [38400/50000] Loss: 0.623655 Acc: 0.7969\n",
      "Elapsed 1252.01s, 59.62 s/epoch, 0.15 s/batch, ets 1728.97s\n",
      "\n",
      "Test set: Average loss: 0.8777, Accuracy: 7170/10000 (72%)\n",
      "\n",
      "Train Epoch: 21 [12800/50000] Loss: 0.452818 Acc: 0.8672\n",
      "Train Epoch: 21 [25600/50000] Loss: 0.595447 Acc: 0.7969\n",
      "Train Epoch: 21 [38400/50000] Loss: 0.769624 Acc: 0.7500\n",
      "Elapsed 1311.58s, 59.62 s/epoch, 0.15 s/batch, ets 1669.28s\n",
      "\n",
      "Test set: Average loss: 0.8076, Accuracy: 7340/10000 (73%)\n",
      "\n",
      "Train Epoch: 22 [12800/50000] Loss: 0.376498 Acc: 0.8594\n",
      "Train Epoch: 22 [25600/50000] Loss: 0.467183 Acc: 0.8359\n",
      "Train Epoch: 22 [38400/50000] Loss: 0.458772 Acc: 0.8750\n",
      "Elapsed 1371.17s, 59.62 s/epoch, 0.15 s/batch, ets 1609.64s\n",
      "\n",
      "Test set: Average loss: 0.8527, Accuracy: 7191/10000 (72%)\n",
      "\n",
      "Train Epoch: 23 [12800/50000] Loss: 0.658312 Acc: 0.7500\n",
      "Train Epoch: 23 [25600/50000] Loss: 0.445670 Acc: 0.8516\n",
      "Train Epoch: 23 [38400/50000] Loss: 0.417110 Acc: 0.8281\n",
      "Elapsed 1431.89s, 59.66 s/epoch, 0.15 s/batch, ets 1551.21s\n",
      "\n",
      "Test set: Average loss: 1.0145, Accuracy: 6965/10000 (70%)\n",
      "\n",
      "Train Epoch: 24 [12800/50000] Loss: 0.439160 Acc: 0.8516\n",
      "Train Epoch: 24 [25600/50000] Loss: 0.477765 Acc: 0.8359\n",
      "Train Epoch: 24 [38400/50000] Loss: 0.424260 Acc: 0.8672\n",
      "Elapsed 1492.51s, 59.70 s/epoch, 0.15 s/batch, ets 1492.51s\n",
      "\n",
      "Test set: Average loss: 0.7777, Accuracy: 7480/10000 (75%)\n",
      "\n",
      "Accuracy improved, saving the model.\n",
      "\n",
      "Train Epoch: 25 [12800/50000] Loss: 0.532063 Acc: 0.8359\n",
      "Train Epoch: 25 [25600/50000] Loss: 0.451244 Acc: 0.8438\n",
      "Train Epoch: 25 [38400/50000] Loss: 0.407227 Acc: 0.8438\n",
      "Elapsed 1553.29s, 59.74 s/epoch, 0.15 s/batch, ets 1433.80s\n",
      "\n",
      "Test set: Average loss: 0.8664, Accuracy: 7318/10000 (73%)\n",
      "\n",
      "Train Epoch: 26 [12800/50000] Loss: 0.503989 Acc: 0.7969\n",
      "Train Epoch: 26 [25600/50000] Loss: 0.257937 Acc: 0.9141\n",
      "Train Epoch: 26 [38400/50000] Loss: 0.334574 Acc: 0.8750\n",
      "Elapsed 1613.26s, 59.75 s/epoch, 0.15 s/batch, ets 1374.26s\n",
      "\n",
      "Test set: Average loss: 0.8644, Accuracy: 7328/10000 (73%)\n",
      "\n",
      "Train Epoch: 27 [12800/50000] Loss: 0.310893 Acc: 0.9062\n",
      "Train Epoch: 27 [25600/50000] Loss: 0.411118 Acc: 0.8516\n",
      "Train Epoch: 27 [38400/50000] Loss: 0.341553 Acc: 0.8516\n",
      "Elapsed 1673.49s, 59.77 s/epoch, 0.15 s/batch, ets 1314.89s\n",
      "\n",
      "Test set: Average loss: 0.8037, Accuracy: 7499/10000 (75%)\n",
      "\n",
      "Accuracy improved, saving the model.\n",
      "\n",
      "Train Epoch: 28 [12800/50000] Loss: 0.371247 Acc: 0.8750\n",
      "Train Epoch: 28 [25600/50000] Loss: 0.282703 Acc: 0.8828\n",
      "Train Epoch: 28 [38400/50000] Loss: 0.283141 Acc: 0.8906\n",
      "Elapsed 1734.67s, 59.82 s/epoch, 0.15 s/batch, ets 1256.14s\n",
      "\n",
      "Test set: Average loss: 0.7768, Accuracy: 7589/10000 (76%)\n",
      "\n",
      "Accuracy improved, saving the model.\n",
      "\n",
      "Train Epoch: 29 [12800/50000] Loss: 0.386607 Acc: 0.8750\n",
      "Train Epoch: 29 [25600/50000] Loss: 0.295585 Acc: 0.8906\n",
      "Train Epoch: 29 [38400/50000] Loss: 0.384817 Acc: 0.8906\n",
      "Elapsed 1795.08s, 59.84 s/epoch, 0.15 s/batch, ets 1196.72s\n",
      "\n",
      "Test set: Average loss: 1.5261, Accuracy: 6098/10000 (61%)\n",
      "\n",
      "Train Epoch: 30 [12800/50000] Loss: 0.408812 Acc: 0.8516\n",
      "Train Epoch: 30 [25600/50000] Loss: 0.249941 Acc: 0.8672\n",
      "Train Epoch: 30 [38400/50000] Loss: 0.327119 Acc: 0.8750\n",
      "Elapsed 1855.31s, 59.85 s/epoch, 0.15 s/batch, ets 1137.12s\n",
      "\n",
      "Test set: Average loss: 0.8609, Accuracy: 7389/10000 (74%)\n",
      "\n",
      "Train Epoch: 31 [12800/50000] Loss: 0.332942 Acc: 0.8828\n",
      "Train Epoch: 31 [25600/50000] Loss: 0.256790 Acc: 0.9062\n",
      "Train Epoch: 31 [38400/50000] Loss: 0.261314 Acc: 0.8984\n",
      "Elapsed 1914.99s, 59.84 s/epoch, 0.15 s/batch, ets 1077.18s\n",
      "\n",
      "Test set: Average loss: 1.2169, Accuracy: 6842/10000 (68%)\n",
      "\n",
      "Train Epoch: 32 [12800/50000] Loss: 0.171769 Acc: 0.9453\n",
      "Train Epoch: 32 [25600/50000] Loss: 0.237463 Acc: 0.9219\n",
      "Train Epoch: 32 [38400/50000] Loss: 0.275948 Acc: 0.9062\n",
      "Elapsed 1975.16s, 59.85 s/epoch, 0.15 s/batch, ets 1017.51s\n",
      "\n",
      "Test set: Average loss: 0.8992, Accuracy: 7462/10000 (75%)\n",
      "\n",
      "Train Epoch: 33 [12800/50000] Loss: 0.203329 Acc: 0.9453\n",
      "Train Epoch: 33 [25600/50000] Loss: 0.175551 Acc: 0.9375\n",
      "Train Epoch: 33 [38400/50000] Loss: 0.227461 Acc: 0.9375\n",
      "Elapsed 2034.60s, 59.84 s/epoch, 0.15 s/batch, ets 957.46s\n",
      "\n",
      "Test set: Average loss: 1.0292, Accuracy: 7190/10000 (72%)\n",
      "\n",
      "Train Epoch: 34 [12800/50000] Loss: 0.302070 Acc: 0.8828\n",
      "Train Epoch: 34 [25600/50000] Loss: 0.203298 Acc: 0.9297\n",
      "Train Epoch: 34 [38400/50000] Loss: 0.304940 Acc: 0.8984\n",
      "Elapsed 2094.31s, 59.84 s/epoch, 0.15 s/batch, ets 897.56s\n",
      "\n",
      "Test set: Average loss: 0.9099, Accuracy: 7458/10000 (75%)\n",
      "\n",
      "Train Epoch: 35 [12800/50000] Loss: 0.214088 Acc: 0.9219\n",
      "Train Epoch: 35 [25600/50000] Loss: 0.216027 Acc: 0.9297\n",
      "Train Epoch: 35 [38400/50000] Loss: 0.149507 Acc: 0.9609\n",
      "Elapsed 2154.70s, 59.85 s/epoch, 0.15 s/batch, ets 837.94s\n",
      "\n",
      "Test set: Average loss: 0.9054, Accuracy: 7504/10000 (75%)\n",
      "\n",
      "Train Epoch: 36 [12800/50000] Loss: 0.163726 Acc: 0.9609\n",
      "Train Epoch: 36 [25600/50000] Loss: 0.172674 Acc: 0.9453\n",
      "Train Epoch: 36 [38400/50000] Loss: 0.202766 Acc: 0.9141\n",
      "Elapsed 2215.68s, 59.88 s/epoch, 0.15 s/batch, ets 778.48s\n",
      "\n",
      "Test set: Average loss: 0.9852, Accuracy: 7387/10000 (74%)\n",
      "\n",
      "Train Epoch: 37 [12800/50000] Loss: 0.114481 Acc: 0.9609\n",
      "Train Epoch: 37 [25600/50000] Loss: 0.159544 Acc: 0.9531\n",
      "Train Epoch: 37 [38400/50000] Loss: 0.311911 Acc: 0.8516\n",
      "Elapsed 2277.21s, 59.93 s/epoch, 0.15 s/batch, ets 719.12s\n",
      "\n",
      "Test set: Average loss: 1.1930, Accuracy: 7072/10000 (71%)\n",
      "\n",
      "Train Epoch: 38 [12800/50000] Loss: 0.173722 Acc: 0.9141\n",
      "Train Epoch: 38 [25600/50000] Loss: 0.136791 Acc: 0.9375\n",
      "Train Epoch: 38 [38400/50000] Loss: 0.181789 Acc: 0.9297\n",
      "Elapsed 2338.29s, 59.96 s/epoch, 0.15 s/batch, ets 659.52s\n",
      "\n",
      "Test set: Average loss: 0.9309, Accuracy: 7544/10000 (75%)\n",
      "\n",
      "Train Epoch: 39 [12800/50000] Loss: 0.220115 Acc: 0.9062\n",
      "Train Epoch: 39 [25600/50000] Loss: 0.171771 Acc: 0.9062\n",
      "Train Epoch: 39 [38400/50000] Loss: 0.237585 Acc: 0.9141\n",
      "Elapsed 2399.13s, 59.98 s/epoch, 0.15 s/batch, ets 599.78s\n",
      "\n",
      "Test set: Average loss: 1.9851, Accuracy: 6173/10000 (62%)\n",
      "\n",
      "Train Epoch: 40 [12800/50000] Loss: 0.207418 Acc: 0.9297\n",
      "Train Epoch: 40 [25600/50000] Loss: 0.106669 Acc: 0.9766\n",
      "Train Epoch: 40 [38400/50000] Loss: 0.287688 Acc: 0.8594\n",
      "Elapsed 2459.87s, 60.00 s/epoch, 0.15 s/batch, ets 539.97s\n",
      "\n",
      "Test set: Average loss: 1.1526, Accuracy: 7262/10000 (73%)\n",
      "\n",
      "Train Epoch: 41 [12800/50000] Loss: 0.163432 Acc: 0.9531\n",
      "Train Epoch: 41 [25600/50000] Loss: 0.087737 Acc: 0.9766\n",
      "Train Epoch: 41 [38400/50000] Loss: 0.125455 Acc: 0.9609\n",
      "Elapsed 2520.99s, 60.02 s/epoch, 0.15 s/batch, ets 480.19s\n",
      "\n",
      "Test set: Average loss: 1.0473, Accuracy: 7513/10000 (75%)\n",
      "\n",
      "Train Epoch: 42 [12800/50000] Loss: 0.166515 Acc: 0.9531\n",
      "Train Epoch: 42 [25600/50000] Loss: 0.082729 Acc: 0.9688\n",
      "Train Epoch: 42 [38400/50000] Loss: 0.168772 Acc: 0.9531\n",
      "Elapsed 2585.11s, 60.12 s/epoch, 0.15 s/batch, ets 420.83s\n",
      "\n",
      "Test set: Average loss: 1.0201, Accuracy: 7470/10000 (75%)\n",
      "\n",
      "Train Epoch: 43 [12800/50000] Loss: 0.080506 Acc: 0.9766\n",
      "Train Epoch: 43 [25600/50000] Loss: 0.146682 Acc: 0.9375\n",
      "Train Epoch: 43 [38400/50000] Loss: 1.126388 Acc: 0.7656\n",
      "Elapsed 2650.07s, 60.23 s/epoch, 0.15 s/batch, ets 361.37s\n",
      "\n",
      "Test set: Average loss: 1.1278, Accuracy: 7276/10000 (73%)\n",
      "\n",
      "Train Epoch: 44 [12800/50000] Loss: 0.098317 Acc: 0.9766\n",
      "Train Epoch: 44 [25600/50000] Loss: 0.108615 Acc: 0.9609\n",
      "Train Epoch: 44 [38400/50000] Loss: 0.055818 Acc: 0.9766\n",
      "Elapsed 2712.41s, 60.28 s/epoch, 0.15 s/batch, ets 301.38s\n",
      "\n",
      "Test set: Average loss: 1.0027, Accuracy: 7614/10000 (76%)\n",
      "\n",
      "Accuracy improved, saving the model.\n",
      "\n",
      "Train Epoch: 45 [12800/50000] Loss: 0.102648 Acc: 0.9766\n",
      "Train Epoch: 45 [25600/50000] Loss: 0.059524 Acc: 0.9844\n",
      "Train Epoch: 45 [38400/50000] Loss: 0.112891 Acc: 0.9688\n",
      "Elapsed 2775.51s, 60.34 s/epoch, 0.15 s/batch, ets 241.35s\n",
      "\n",
      "Test set: Average loss: 1.0112, Accuracy: 7576/10000 (76%)\n",
      "\n",
      "Train Epoch: 46 [12800/50000] Loss: 0.295142 Acc: 0.9062\n",
      "Train Epoch: 46 [25600/50000] Loss: 0.051088 Acc: 0.9922\n",
      "Train Epoch: 46 [38400/50000] Loss: 0.169620 Acc: 0.9531\n",
      "Elapsed 2837.10s, 60.36 s/epoch, 0.15 s/batch, ets 181.09s\n",
      "\n",
      "Test set: Average loss: 1.1044, Accuracy: 7442/10000 (74%)\n",
      "\n",
      "Train Epoch: 47 [12800/50000] Loss: 0.054597 Acc: 0.9844\n",
      "Train Epoch: 47 [25600/50000] Loss: 0.103822 Acc: 0.9531\n",
      "Train Epoch: 47 [38400/50000] Loss: 0.078262 Acc: 0.9688\n",
      "Elapsed 2899.41s, 60.40 s/epoch, 0.15 s/batch, ets 120.81s\n",
      "\n",
      "Test set: Average loss: 1.0818, Accuracy: 7527/10000 (75%)\n",
      "\n",
      "Train Epoch: 48 [12800/50000] Loss: 0.048951 Acc: 0.9922\n",
      "Train Epoch: 48 [25600/50000] Loss: 0.088386 Acc: 0.9844\n",
      "Train Epoch: 48 [38400/50000] Loss: 0.108912 Acc: 0.9688\n",
      "Elapsed 2963.40s, 60.48 s/epoch, 0.15 s/batch, ets 60.48s\n",
      "\n",
      "Test set: Average loss: 1.0954, Accuracy: 7649/10000 (76%)\n",
      "\n",
      "Accuracy improved, saving the model.\n",
      "\n",
      "Train Epoch: 49 [12800/50000] Loss: 0.048766 Acc: 0.9844\n",
      "Train Epoch: 49 [25600/50000] Loss: 0.069158 Acc: 0.9688\n",
      "Train Epoch: 49 [38400/50000] Loss: 0.117893 Acc: 0.9688\n",
      "Elapsed 3026.60s, 60.53 s/epoch, 0.15 s/batch, ets 0.00s\n",
      "\n",
      "Test set: Average loss: 1.4410, Accuracy: 7099/10000 (71%)\n",
      "\n",
      "Total time: 3033.50, Best Loss: 0.773, Best Accuracy: 0.765\n"
     ]
    }
   ],
   "source": [
    "if required_training:\n",
    "    model, epoch_train_loss, epoch_train_acc, epoch_test_loss, epoch_test_acc = main()"
   ]
  },
  {
   "cell_type": "markdown",
   "metadata": {
    "cellIdentifier": "4itwg0nzgqbwhwrkipejfm",
    "deletable": false,
    "editable": false,
    "nbgrader": {
     "grade": false,
     "locked": true,
     "solution": false
    }
   },
   "source": [
    "# <font style=\"color:blue\">12. Plot Loss</font>"
   ]
  },
  {
   "cell_type": "code",
   "execution_count": 23,
   "metadata": {
    "cellIdentifier": "xl79yhc6v6mbomb3p3msg",
    "deletable": false,
    "editable": false,
    "lines_to_next_cell": 2,
    "nbgrader": {
     "grade": false,
     "locked": true,
     "solution": false
    }
   },
   "outputs": [
    {
     "data": {
      "image/png": "[encoded data removed]",
      "text/plain": [
       "<Figure size 720x432 with 1 Axes>"
      ]
     },
     "metadata": {
      "needs_background": "light"
     },
     "output_type": "display_data"
    }
   ],
   "source": [
    "# Plot loss\n",
    "plt.rcParams[\"figure.figsize\"] = (10, 6)\n",
    "x = range(len(epoch_train_loss))\n",
    "\n",
    "\n",
    "plt.figure\n",
    "plt.plot(x, epoch_train_loss, color='r', label=\"train loss\")\n",
    "plt.plot(x, epoch_test_loss, color='b', label=\"validation loss\")\n",
    "plt.xlabel('epoch no.')\n",
    "plt.ylabel('loss')\n",
    "plt.legend(loc='upper right')\n",
    "plt.title('Training and Validation Loss')\n",
    "plt.show()"
   ]
  },
  {
   "cell_type": "markdown",
   "metadata": {
    "cellIdentifier": "hrgvhd8run7u1g9s7fapq",
    "deletable": false,
    "editable": false,
    "nbgrader": {
     "grade": false,
     "locked": true,
     "solution": false
    }
   },
   "source": [
    "# <font style=\"color:blue\">13. Plot Accuracy</font>"
   ]
  },
  {
   "cell_type": "code",
   "execution_count": 24,
   "metadata": {
    "cellIdentifier": "1w0qyhpww18mrz49xs0h1",
    "deletable": false,
    "editable": false,
    "nbgrader": {
     "grade": false,
     "locked": true,
     "solution": false
    }
   },
   "outputs": [
    {
     "data": {
      "image/png": "[encoded data removed]",
      "text/plain": [
       "<Figure size 720x432 with 1 Axes>"
      ]
     },
     "metadata": {
      "needs_background": "light"
     },
     "output_type": "display_data"
    }
   ],
   "source": [
    "# Plot loss\n",
    "plt.rcParams[\"figure.figsize\"] = (10, 6)\n",
    "x = range(len(epoch_train_loss))\n",
    "\n",
    "\n",
    "plt.figure\n",
    "plt.plot(x, epoch_train_acc, color='r', label=\"train accuracy\")\n",
    "plt.plot(x, epoch_test_acc, color='b', label=\"validation accuracy\")\n",
    "plt.xlabel('epoch no.')\n",
    "plt.ylabel('accuracy')\n",
    "plt.legend(loc='center right')\n",
    "plt.title('Training and Validation Accuracy')\n",
    "plt.show()"
   ]
  },
  {
   "cell_type": "markdown",
   "metadata": {
    "cellIdentifier": "qt2y3nxg9vjfkz3ojrezt",
    "deletable": false,
    "editable": false,
    "nbgrader": {
     "grade": false,
     "locked": true,
     "solution": false
    }
   },
   "source": [
    "# <font style=\"color:blue\">14. Loading the Model </font>\n"
   ]
  },
  {
   "cell_type": "code",
   "execution_count": 25,
   "metadata": {
    "cellIdentifier": "ik2olx2a1xh6k9ot6r37l",
    "deletable": false,
    "editable": false,
    "nbgrader": {
     "grade": false,
     "locked": true,
     "solution": false
    }
   },
   "outputs": [
    {
     "data": {
      "text/plain": [
       "<All keys matched successfully>"
      ]
     },
     "execution_count": 25,
     "metadata": {},
     "output_type": "execute_result"
    }
   ],
   "source": [
    "# initialize the model\n",
    "cnn_model = MyModel()\n",
    "\n",
    "models = 'models'\n",
    "\n",
    "model_file_name = 'cifar10_cnn_model.pt'\n",
    "\n",
    "model_path = os.path.join(models, model_file_name)\n",
    "\n",
    "# loading the model and getting model parameters by using load_state_dict\n",
    "cnn_model.load_state_dict(torch.load(model_path))"
   ]
  },
  {
   "cell_type": "markdown",
   "metadata": {
    "cellIdentifier": "1fcduaqgqzjjuaitdmtjop",
    "deletable": false,
    "editable": false,
    "nbgrader": {
     "grade": false,
     "locked": true,
     "solution": false
    }
   },
   "source": [
    "# <font style=\"color:blue\">15. Model Prediction</font>\n"
   ]
  },
  {
   "cell_type": "code",
   "execution_count": 26,
   "metadata": {
    "cellIdentifier": "2k8v015a3zchu9tkp4x1ei",
    "deletable": false,
    "editable": false,
    "nbgrader": {
     "grade": false,
     "locked": true,
     "solution": false
    }
   },
   "outputs": [],
   "source": [
    "def prediction(model, train_config, batch_input):\n",
    "    \n",
    "    # send model to cpu/cuda according to your system configuration\n",
    "    model.to(train_config.device)\n",
    "    \n",
    "    # it is important to do model.eval() before prediction\n",
    "    model.eval()\n",
    "\n",
    "    data = batch_input.to(train_config.device)\n",
    "\n",
    "    output = model(data)\n",
    "\n",
    "    # Score to probability using softmax\n",
    "    prob = F.softmax(output, dim=1)\n",
    "\n",
    "    # get the max probability\n",
    "    pred_prob = prob.data.max(dim=1)[0]\n",
    "    \n",
    "    # get the index of the max probability\n",
    "    pred_index = prob.data.max(dim=1)[1]\n",
    "    \n",
    "    return pred_index.cpu().numpy(), pred_prob.cpu().numpy()"
   ]
  },
  {
   "cell_type": "markdown",
   "metadata": {
    "cellIdentifier": "wqt0eaxbsqrgi8lskog6ar",
    "deletable": false,
    "editable": false,
    "nbgrader": {
     "grade": false,
     "locked": true,
     "solution": false
    }
   },
   "source": [
    "# <font style=\"color:blue\">16. Perform Inference on sample images </font>\n",
    "\n",
    "For prediction, we need to transform the data in the same way as we have done during training. "
   ]
  },
  {
   "cell_type": "code",
   "execution_count": 27,
   "metadata": {
    "cellIdentifier": "bvcif954gsf79ztxlwu9r",
    "deletable": false,
    "editable": false,
    "lines_to_next_cell": 2,
    "nbgrader": {
     "grade": false,
     "locked": true,
     "solution": false
    }
   },
   "outputs": [
    {
     "data": {
      "image/png": "[encoded data removed]",
      "text/plain": [
       "<Figure size 216x216 with 1 Axes>"
      ]
     },
     "metadata": {
      "needs_background": "light"
     },
     "output_type": "display_data"
    },
    {
     "data": {
      "image/png": "[encoded data removed]",
      "text/plain": [
       "<Figure size 216x216 with 1 Axes>"
      ]
     },
     "metadata": {
      "needs_background": "light"
     },
     "output_type": "display_data"
    },
    {
     "data": {
      "image/png": "[encoded data removed]",
      "text/plain": [
       "<Figure size 216x216 with 1 Axes>"
      ]
     },
     "metadata": {
      "needs_background": "light"
     },
     "output_type": "display_data"
    },
    {
     "data": {
      "image/png": "[encoded data removed]",
      "text/plain": [
       "<Figure size 216x216 with 1 Axes>"
      ]
     },
     "metadata": {
      "needs_background": "light"
     },
     "output_type": "display_data"
    },
    {
     "data": {
      "image/png": "[encoded data removed]",
      "text/plain": [
       "<Figure size 216x216 with 1 Axes>"
      ]
     },
     "metadata": {
      "needs_background": "light"
     },
     "output_type": "display_data"
    }
   ],
   "source": [
    "classes = ('plane', 'car', 'bird', 'cat', 'deer', 'dog', 'frog', 'horse', 'ship', 'truck')\n",
    "\n",
    "batch_size = 5\n",
    "train_config = TrainingConfiguration()\n",
    "\n",
    "if torch.cuda.is_available():\n",
    "    train_config.device = \"cuda\"\n",
    "else:\n",
    "    train_config.device = \"cpu\"\n",
    "    \n",
    "    \n",
    "\n",
    "# load test data without image transformation\n",
    "test = torch.utils.data.DataLoader(\n",
    "    datasets.CIFAR10(root=train_config.data_root, train=False, download=False, \n",
    "                   transform=transforms.functional.to_tensor),\n",
    "    batch_size=batch_size,\n",
    "    shuffle=False,\n",
    "    num_workers=1\n",
    "    )\n",
    "\n",
    "try:\n",
    "    mean, std = get_mean_std_train_data(data_root)\n",
    "    assert len(mean) == len(std) == 3\n",
    "except:\n",
    "    mean = (0.5, 0.5, 0.5)\n",
    "    std = (0.5, 0.5, 0.5)\n",
    "\n",
    "# load testdata with image transformation\n",
    "image_transforms = transforms.Compose([\n",
    "    transforms.ToTensor(),\n",
    "    transforms.Normalize(mean, std)\n",
    "    ])\n",
    "\n",
    "test_trans = torch.utils.data.DataLoader(\n",
    "    datasets.CIFAR10(root=train_config.data_root, train=False, download=False, transform=image_transforms),\n",
    "    batch_size=batch_size,\n",
    "    shuffle=False,\n",
    "    num_workers=1\n",
    "    )\n",
    "\n",
    "for data, _ in test_trans:\n",
    "    # pass the loaded model\n",
    "    pred, prob = prediction(cnn_model, train_config, data)\n",
    "    break\n",
    "    \n",
    "\n",
    "plt.rcParams[\"figure.figsize\"] = (3, 3)\n",
    "for images, label in test:\n",
    "    for i, img in enumerate(images):\n",
    "        img = transforms.functional.to_pil_image(img)\n",
    "        plt.imshow(img)\n",
    "        plt.gca().set_title('Pred: {0}({1:0.2}), Label: {2}'.format(classes[pred[i]], prob[i], classes[label[i]]))\n",
    "        plt.show()\n",
    "    break"
   ]
  },
  {
   "cell_type": "markdown",
   "metadata": {
    "cellIdentifier": "zxf8dzxnf9p8u6wfn7wdb"
   },
   "source": [
    "# <font style=\"color:blue\">17. Report your findings</font>\n",
    "- accuracy was below 70% (batch_size: int = 128, epochs_count: int = 50, learning_rate: float = 0.01)\n",
    "- validation accuracy was below 70% (batch_size: int = 128, epochs_count: int = 50, learning_rate: float = 0.1) / train accuracy was over 90% tho.\n",
    "- validation accuracy was below 70% (batch_size: int = 128, epochs_count: int = 50, learning_rate: float = 0.05) / validation loss is keep divesing\n",
    "\n",
    "\n",
    "이중 첫번째 결과가 그나마 나았으니..parameters는 1번으로 하고 conv layer 한장 추가해봄~\n",
    "the result was pretty same as without adding conv layer...\n",
    "\n",
    "- the result was below 70% (added more nodes in the layer & dropout)\n",
    "- Added conv layers (from 6 → 16 → 32 to 32 → 64 → 128) accuracy가 제일 높았다! 70~80%\n"
   ]
  },
  {
   "cell_type": "code",
   "execution_count": null,
   "metadata": {},
   "outputs": [],
   "source": []
  },
  {
   "cell_type": "code",
   "execution_count": null,
   "metadata": {},
   "outputs": [],
   "source": []
  },
  {
   "cell_type": "markdown",
   "metadata": {
    "cellIdentifier": "eeddjv1xahjrjmtpt0ecnk",
    "deletable": false,
    "editable": false,
    "nbgrader": {
     "grade": false,
     "locked": true,
     "solution": false
    }
   },
   "source": [
    "# <font style=\"color:blue\">References</font>\n",
    "\n",
    "1. https://pytorch.org/tutorials/beginner/data_loading_tutorial.html\n",
    "1. https://pytorch.org/tutorials/beginner/saving_loading_models.html"
   ]
  }
 ],
 "metadata": {
  "kernelspec": {
   "display_name": "Python 3 [3.10]",
   "language": "python",
   "name": "python3"
  },
  "language_info": {
   "codemirror_mode": {
    "name": "ipython",
    "version": 3
   },
   "file_extension": ".py",
   "mimetype": "text/x-python",
   "name": "python",
   "nbconvert_exporter": "python",
   "pygments_lexer": "ipython3",
   "version": "3.10.2"
  }
 },
 "nbformat": 4,
 "nbformat_minor": 4
}
